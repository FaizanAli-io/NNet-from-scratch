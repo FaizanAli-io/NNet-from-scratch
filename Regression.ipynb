{
 "cells": [
  {
   "cell_type": "code",
   "execution_count": 1,
   "id": "08ee8b9b",
   "metadata": {},
   "outputs": [],
   "source": [
    "from sklearn.preprocessing import StandardScaler\n",
    "from tensorflow.keras.models import Sequential\n",
    "from tensorflow.keras.layers import Dense\n",
    "from matplotlib import pyplot as plt\n",
    "import numpy as np\n",
    "import random"
   ]
  },
  {
   "cell_type": "code",
   "execution_count": 66,
   "id": "df9469d7",
   "metadata": {},
   "outputs": [],
   "source": [
    "n = 10000\n",
    "m = 100\n",
    "func = lambda a, b: np.sqrt(a**2 + b**2)\n",
    "\n",
    "x = np.zeros((n, 2))\n",
    "y = np.zeros((n))\n",
    "\n",
    "for i in range(n):\n",
    "    x[i][0] = random.randint(0, m)\n",
    "    x[i][1] = random.randint(0, m)\n",
    "    y[i] = func(x[i][0], x[i][1])"
   ]
  },
  {
   "cell_type": "code",
   "execution_count": 68,
   "id": "1fdf29b3",
   "metadata": {
    "collapsed": true
   },
   "outputs": [
    {
     "data": {
      "text/plain": [
       "(array([[35.,  5.],\n",
       "        [96., 99.],\n",
       "        [88., 92.],\n",
       "        [97., 68.],\n",
       "        [34., 39.]]),\n",
       " array([ 35.35533906, 137.90213921, 127.3106437 , 118.46096403,\n",
       "         51.73973328]))"
      ]
     },
     "execution_count": 68,
     "metadata": {},
     "output_type": "execute_result"
    }
   ],
   "source": [
    "x[:5], y[:5]"
   ]
  },
  {
   "cell_type": "code",
   "execution_count": 71,
   "id": "e77cdda7",
   "metadata": {},
   "outputs": [],
   "source": [
    "model = Sequential([\n",
    "    Dense(32, activation=\"relu\", input_shape=(2,)),\n",
    "    Dense(32, activation=\"relu\"),\n",
    "    Dense(1)\n",
    "])\n",
    "model.compile(optimizer=\"adam\", loss=\"mse\")"
   ]
  },
  {
   "cell_type": "code",
   "execution_count": 73,
   "id": "899da6d4",
   "metadata": {
    "collapsed": true
   },
   "outputs": [
    {
     "name": "stdout",
     "output_type": "stream",
     "text": [
      "Epoch 1/20\n",
      "313/313 [==============================] - 0s 814us/step - loss: 0.0172\n",
      "Epoch 2/20\n",
      "313/313 [==============================] - 0s 793us/step - loss: 0.0137\n",
      "Epoch 3/20\n",
      "313/313 [==============================] - 0s 814us/step - loss: 0.0152\n",
      "Epoch 4/20\n",
      "313/313 [==============================] - 0s 864us/step - loss: 0.0180\n",
      "Epoch 5/20\n",
      "313/313 [==============================] - 0s 793us/step - loss: 0.0140\n",
      "Epoch 6/20\n",
      "313/313 [==============================] - 0s 764us/step - loss: 0.0143\n",
      "Epoch 7/20\n",
      "313/313 [==============================] - 0s 843us/step - loss: 0.0162\n",
      "Epoch 8/20\n",
      "313/313 [==============================] - 0s 864us/step - loss: 0.0199\n",
      "Epoch 9/20\n",
      "313/313 [==============================] - 0s 814us/step - loss: 0.0218\n",
      "Epoch 10/20\n",
      "313/313 [==============================] - 0s 793us/step - loss: 0.0206\n",
      "Epoch 11/20\n",
      "313/313 [==============================] - 0s 814us/step - loss: 0.0238\n",
      "Epoch 12/20\n",
      "313/313 [==============================] - 0s 793us/step - loss: 0.0152\n",
      "Epoch 13/20\n",
      "313/313 [==============================] - 0s 814us/step - loss: 0.0155\n",
      "Epoch 14/20\n",
      "313/313 [==============================] - 0s 893us/step - loss: 0.0233\n",
      "Epoch 15/20\n",
      "313/313 [==============================] - 0s 764us/step - loss: 0.0231\n",
      "Epoch 16/20\n",
      "313/313 [==============================] - 0s 793us/step - loss: 0.0175\n",
      "Epoch 17/20\n",
      "313/313 [==============================] - 0s 764us/step - loss: 0.0163\n",
      "Epoch 18/20\n",
      "313/313 [==============================] - 0s 864us/step - loss: 0.0189\n",
      "Epoch 19/20\n",
      "313/313 [==============================] - 0s 793us/step - loss: 0.0134\n",
      "Epoch 20/20\n",
      "313/313 [==============================] - 0s 914us/step - loss: 0.0141\n"
     ]
    },
    {
     "data": {
      "text/plain": [
       "<tensorflow.python.keras.callbacks.History at 0x1dcd9cd4910>"
      ]
     },
     "execution_count": 73,
     "metadata": {},
     "output_type": "execute_result"
    }
   ],
   "source": [
    "model.fit(x, y, epochs=20)"
   ]
  },
  {
   "cell_type": "code",
   "execution_count": 77,
   "id": "35e1b719",
   "metadata": {},
   "outputs": [
    {
     "data": {
      "text/plain": [
       "array([[13.023011]], dtype=float32)"
      ]
     },
     "execution_count": 77,
     "metadata": {},
     "output_type": "execute_result"
    }
   ],
   "source": [
    "model.predict([[12, 5]])"
   ]
  },
  {
   "cell_type": "code",
   "execution_count": null,
   "id": "a5a7d671",
   "metadata": {},
   "outputs": [],
   "source": []
  }
 ],
 "metadata": {
  "kernelspec": {
   "display_name": "Python 3",
   "language": "python",
   "name": "python3"
  },
  "language_info": {
   "codemirror_mode": {
    "name": "ipython",
    "version": 3
   },
   "file_extension": ".py",
   "mimetype": "text/x-python",
   "name": "python",
   "nbconvert_exporter": "python",
   "pygments_lexer": "ipython3",
   "version": "3.9.5"
  }
 },
 "nbformat": 4,
 "nbformat_minor": 5
}
